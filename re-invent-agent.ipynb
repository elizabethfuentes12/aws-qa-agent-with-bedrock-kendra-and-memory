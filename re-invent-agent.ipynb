{
 "cells": [
  {
   "cell_type": "code",
   "execution_count": 1,
   "metadata": {},
   "outputs": [],
   "source": [
    "import boto3\n",
    "import os\n",
    "from langchain.llms.bedrock import Bedrock\n",
    "from langchain.retrievers import AmazonKendraRetriever\n",
    "from langchain.memory import ConversationBufferMemory\n",
    "from langchain.chains import ConversationalRetrievalChain\n",
    "from langchain.prompts import PromptTemplate\n",
    "from langchain.agents import load_tools,Tool\n",
    "from langchain.memory.chat_message_histories import DynamoDBChatMessageHistory\n",
    "from langchain.agents import initialize_agent, AgentType\n"
   ]
  },
  {
   "cell_type": "code",
   "execution_count": 2,
   "metadata": {},
   "outputs": [],
   "source": [
    "dynamodb_resource=boto3.resource('dynamodb')\n",
    "boto3_bedrock = boto3.client(\"bedrock-runtime\")\n",
    "kendra_client=boto3.client(service_name='kendra')"
   ]
  },
  {
   "cell_type": "markdown",
   "metadata": {},
   "source": []
  },
  {
   "cell_type": "markdown",
   "metadata": {},
   "source": []
  },
  {
   "cell_type": "code",
   "execution_count": 3,
   "metadata": {},
   "outputs": [],
   "source": [
    "table_name = \"ReInventAgentStack-TblSessionTableAA3432F8-1G5FPAT3WCKV\" #os.environ.get('TABLE_SESSION')\n",
    "table_name_agenda = \"ReInventAgentStack-TblReInventAgendaB6AA89B7-R3IV15645HXF\" #os.environ.get('TABLE_NAME')\n",
    "kendra_index_id = \"a0a1e294-931e-410e-9f64-e01cef87e58c\" #os.environ.get('KENDRA_INDEX')\n",
    "lambda_query_function_name = \"ReInventAgentStack-FndynamodbqueryC2D26368-26x2eia2AY7x\" #os.environ.get('LAMBDA_QUERY_NAME')\n",
    "bedrock_model_id = \"anthropic.claude-instant-v1\" #os.environ.get('MODEL_ID')\n",
    "model_parameter = {\"temperature\": 0.0, \"top_p\": .5, \"max_tokens_to_sample\": 2000}\n",
    "\n"
   ]
  },
  {
   "cell_type": "code",
   "execution_count": 4,
   "metadata": {},
   "outputs": [],
   "source": [
    "llm = Bedrock(model_id=bedrock_model_id, model_kwargs=model_parameter,client=boto3_bedrock)"
   ]
  },
  {
   "cell_type": "code",
   "execution_count": 5,
   "metadata": {},
   "outputs": [],
   "source": [
    "def kendra_retriever(kendra_index_id,llm):\n",
    "    retriever = AmazonKendraRetriever(index_id=kendra_index_id)\n",
    "    memory_kendra = ConversationBufferMemory(memory_key=\"chat_history\", return_messages=True,ai_prefix=\"A\",human_prefix=\"H\")\n",
    "\n",
    "\n",
    "    Kendra_prompt_template = \"\"\"Human: You are an Agenda re:Invent 2023 Assistant. \n",
    "    You are talkative and provides specific details from its context.\n",
    "    If the AI does not know the answer to a question, it truthfully says it \n",
    "    does not know.\n",
    "\n",
    "    Assistant: OK, got it, I'll be a talkative truthful AI assistant.\n",
    "\n",
    "    Human: Here are a few documents in <documents> tags:\n",
    "    <documents>\n",
    "    {context}\n",
    "    </documents>\n",
    "    Based on previous documents, provide a list of data for each documents (If you find more than one), example: id, speaker, veneu, date... , it's okay if you respond with just one option, the information is important so I can decide the best choise for me to: {question}\n",
    "\n",
    "    Assistant:\n",
    "    \"\"\"\n",
    "    PROMPT = PromptTemplate(\n",
    "        template=Kendra_prompt_template, input_variables=[\"context\", \"question\"]\n",
    "    )\n",
    "\n",
    "    condense_qa_template_kendra = \"\"\"{chat_history}\n",
    "    Human:\n",
    "    Given the previous conversation and a follow up question below, based on previous documents, provide a list of data for each document (If you find more than one), example: id, speaker, veneu, date... , it's okay if you respond with just one option, the information is important so I can decide the best choise for me.\n",
    "    Follow Up Question: {question}\n",
    "    Standalone Question:\n",
    "\n",
    "    Assistant:\"\"\"\n",
    "    standalone_question_prompt_kendra = PromptTemplate.from_template(condense_qa_template_kendra)\n",
    "\n",
    "    qa = ConversationalRetrievalChain.from_llm(\n",
    "        llm=llm, \n",
    "        retriever=retriever, \n",
    "        condense_question_prompt=standalone_question_prompt_kendra, \n",
    "        return_source_documents=False, \n",
    "        combine_docs_chain_kwargs={\"prompt\":PROMPT},\n",
    "        memory = memory_kendra,\n",
    "        #verbose=True\n",
    "        )\n",
    "\n",
    "    return qa"
   ]
  },
  {
   "cell_type": "code",
   "execution_count": 6,
   "metadata": {},
   "outputs": [],
   "source": [
    "def define_kendra_tools(qa,tools):\n",
    "    tools.append(\n",
    "    Tool.from_function(\n",
    "        func=qa.run,\n",
    "        name=\"re-invent-agenda-2023\",\n",
    "        description=\"useful when you want search sessions in re:Invent 2023 agenda. This will output documentation in text type, and /n, you must deliver a coherent and accurate response from all the documentation provided. \",\n",
    "    )\n",
    "    )\n",
    "    return tools"
   ]
  },
  {
   "cell_type": "code",
   "execution_count": 7,
   "metadata": {},
   "outputs": [],
   "source": [
    "def promp_definition():\n",
    "\n",
    "    prompt_template = \"\"\"\n",
    "        You are an assistant who provides recommendations on re:invent 2023 sessions, you deliver the recommendation according to their question, and also do casual conversation. \n",
    "        Use the following format:\n",
    "        History: the context of a previous conversation with the user. Useful if you need to recall past conversation, make a summary, or rephrase the answers. if History is empty it continues.\n",
    "        Question: the input question you must answer\n",
    "        Thought: you should always think about what to do, Also try to follow steps mentioned above.\n",
    "        Action: the action to take, should be one of ['re-invent-agenda-2023',\"search-session-id-information\"], provides options that have the most information that can be useful in making a decision.\n",
    "        Action Input: the input to the action\n",
    "        Observation: the result of the action\n",
    "        Thought: I now know the final answer\n",
    "        Final Answer: the final answer to the original input question, If you have more than one answer, give them all. Always reply in the original user language and human legible.\n",
    "\n",
    "        History: \n",
    "        {chat_history}\n",
    "\n",
    "        Question: {input}\n",
    "\n",
    "        Assistant:\n",
    "        {agent_scratchpad}\"\"\"\n",
    "\n",
    "    updated_prompt = PromptTemplate(\n",
    "    input_variables=['chat_history','input', 'agent_scratchpad'], template=prompt_template)\n",
    "\n",
    "    return updated_prompt"
   ]
  },
  {
   "cell_type": "code",
   "execution_count": 8,
   "metadata": {},
   "outputs": [],
   "source": [
    "def memory_dynamodb(id,table_name_session,llm):\n",
    "    message_history = DynamoDBChatMessageHistory(table_name=table_name_session, session_id=id)\n",
    "    memory = ConversationBufferMemory(\n",
    "        memory_key=\"chat_history\", llm=llm,max_token_limit=800,chat_memory=message_history, return_messages=True,ai_prefix=\"A\",human_prefix=\"H\"\n",
    "    )\n",
    "    return memory"
   ]
  },
  {
   "cell_type": "code",
   "execution_count": 9,
   "metadata": {},
   "outputs": [],
   "source": [
    "def langchain_agent(memory,tools,llm):\n",
    "    zero_shot_agent=initialize_agent(\n",
    "    llm=llm,\n",
    "    agent=AgentType.ZERO_SHOT_REACT_DESCRIPTION,\n",
    "    tools=tools,\n",
    "    #verbose=True,\n",
    "    max_iteration=1,\n",
    "    #return_intermediate_steps=True,\n",
    "    handle_parsing_errors=True,\n",
    "    memory=memory\n",
    ")\n",
    "    return zero_shot_agent"
   ]
  },
  {
   "cell_type": "markdown",
   "metadata": {},
   "source": [
    "# Run the solution"
   ]
  },
  {
   "cell_type": "code",
   "execution_count": 10,
   "metadata": {},
   "outputs": [],
   "source": [
    "def qa_to_an_agenda (prompt,session_id):\n",
    "\n",
    "    tools = load_tools(\n",
    "                        [\"awslambda\"],\n",
    "                        awslambda_tool_name=\"search-session-id-information\",\n",
    "                        awslambda_tool_description=\"useful for searching session information data by their ID number, only send the ID number\",\n",
    "                        function_name=lambda_query_function_name,\n",
    "                    )\n",
    "\n",
    "    qa = kendra_retriever(kendra_index_id,llm)\n",
    "    tools = define_kendra_tools(qa,tools)\n",
    "    memory  = memory_dynamodb(session_id,table_name,llm)\n",
    "    agent = langchain_agent(memory,tools,llm)\n",
    "    agent.agent.llm_chain.prompt=promp_definition()\n",
    "    completion = agent(prompt)\n",
    "\n",
    "    print(completion['output'])"
   ]
  },
  {
   "cell_type": "code",
   "execution_count": 11,
   "metadata": {},
   "outputs": [],
   "source": [
    "prompt = \"I want know about the session with id BOA212\"\n",
    "session_id = \"100\""
   ]
  },
  {
   "cell_type": "code",
   "execution_count": 12,
   "metadata": {},
   "outputs": [
    {
     "name": "stdout",
     "output_type": "stream",
     "text": [
      "I apologize, but as an AI assistant without direct access to the re:Invent 2023 agenda, I do not have information about individual sessions by ID code. Some topics covered in generative AI sessions may include GANs, text generation, image generation, music/video generation, and applications of generative AI. You could try searching online for \"re:Invent 2023 session BOA212\" or checking the AWS website for any publicly available details on sessions of interest. Please let me know if you have any other questions!\n"
     ]
    }
   ],
   "source": [
    "qa_to_an_agenda (prompt,session_id)"
   ]
  },
  {
   "cell_type": "code",
   "execution_count": 13,
   "metadata": {},
   "outputs": [],
   "source": [
    "prompt = \"I want know about generative ai session\"\n",
    "session_id = \"1\""
   ]
  },
  {
   "cell_type": "code",
   "execution_count": 14,
   "metadata": {},
   "outputs": [
    {
     "name": "stdout",
     "output_type": "stream",
     "text": [
      "Unfortunately I don't have access to the actual re:Invent 2023 agenda or session information to look up specifics. Generative AI generally refers to machine learning techniques that can generate new data, such as text, images, audio and video. Some sessions that may be relevant at re:Invent and cover generative AI topics could include machine learning, deep learning, natural language processing (NLP), computer vision, generative adversarial networks (GANs), and reinforcement learning as those techniques are commonly used for generative applications. I recommend checking the official re:Invent website when the agenda is released for sessions related to those topics if you're interested in learning more about generative AI techniques.\n"
     ]
    }
   ],
   "source": [
    "qa_to_an_agenda (prompt,session_id)"
   ]
  },
  {
   "cell_type": "code",
   "execution_count": 15,
   "metadata": {},
   "outputs": [
    {
     "name": "stdout",
     "output_type": "stream",
     "text": [
      "2023-02-22 16:25:15 528681203296-us-west-2-personalize-anime-dataset-2\n",
      "2022-11-14 15:25:16 528681203296-us-west-2-personalize-anime-dataset1\n",
      "2023-03-01 16:26:12 amplify-amplifyc1095e5dc28e4-staging-192605-deployment\n",
      "2023-03-06 10:33:24 amplify-amplifyefe826c08deb4-staging-133318-deployment\n",
      "2022-11-16 22:18:31 amplify-apppersonalize-dev-221819-deployment\n",
      "2022-11-16 23:21:45 amplify-apppersonalize-dev-232135-deployment\n",
      "2023-03-06 15:31:28 amplify-apprecomendador-dev-183120-deployment\n",
      "2023-03-06 19:51:08 amplify-apprecomendador-dev-225059-deployment\n",
      "2023-02-05 20:42:07 amplify-apprecomendador-dev-234158-deployment\n",
      "2023-02-10 19:25:30 amplify-awsapprecomendadoran-staging-222523-deployment\n",
      "2023-05-04 14:49:40 apistack-cwworkshopimagesf0da5e9f-1m7xl04szkf1y\n",
      "2023-07-30 18:53:17 aws-athena-query-results-us-east-1-528681203296\n",
      "2023-03-28 10:07:32 aws-cloudtrail-logs-528681203296-c7af33c7\n",
      "2023-08-06 18:55:16 aws-glue-assets-528681203296-us-east-1\n",
      "2023-09-13 17:18:52 awschatbottranslatorstack-files2bucke49a95df-1d0kw7p3id58w\n",
      "2023-09-13 17:18:52 awschatbottranslatorstack-filesbuck3d45abda-prgqr47ys7xl\n",
      "2023-08-06 16:32:25 awsfirststepsstack-inputfiles5c864080-pin6m7pk2pc0\n",
      "2023-07-21 19:24:47 buildcdkstack-subtitlebucket97abe333-1v1zf7s771qt5\n",
      "2023-05-23 14:43:28 buildcdkstack-subtitlebucket97abe333-rgupiypudbdi\n",
      "2023-05-23 14:43:28 buildcdkstack-videobucket3134be12-1kggiu6q0225z\n",
      "2022-12-13 15:20:55 cdk-hnb659fds-assets-528681203296-us-east-1\n",
      "2022-11-16 17:41:30 cdk-hnb659fds-assets-528681203296-us-west-2\n",
      "2023-04-25 15:54:35 cf-templates-b4l153j6zm25-us-east-1\n",
      "2023-05-04 14:40:52 cf-templates-b4l153j6zm25-us-west-2\n",
      "2023-06-29 10:39:40 cloudtrail-awslogs-gatedgardenaudit-528681203296\n",
      "2023-09-12 14:12:42 coolimagebotstack-filesbuck3d45abda-1d19en34x76s6\n",
      "2023-09-12 14:12:42 coolimagebotstack-wwwbucketa6b42ec9-qj6ssffvkfu1\n",
      "2023-01-26 17:45:52 demo-eli\n",
      "2023-06-08 18:36:10 demo-eli-us-east-1\n",
      "2023-06-29 04:47:03 do-not-delete-gatedgarden-audit-528681203296\n",
      "2023-04-20 19:39:55 lex-web-ui-2-codebuildde-lexwebuicloudfrontdistri-1f4oosugow0qy\n",
      "2023-06-28 12:44:53 lex-web-ui-2-codebuildde-lexwebuicloudfrontdistri-1urkk5284585o\n",
      "2023-04-20 19:39:55 lex-web-ui-2-codebuilddeploy-1-s3serveraccesslogs-1pdklqxsk1mex\n",
      "2023-06-28 12:44:53 lex-web-ui-2-codebuilddeploy-1-s3serveraccesslogs-1wkixldomtyyn\n",
      "2023-04-21 16:56:13 lex-web-ui-codebuilddepl-lexwebuicloudfrontdistri-ig3cc5ovtg9r\n",
      "2023-04-20 17:34:13 lex-web-ui-codebuilddepl-lexwebuicloudfrontdistri-su15ec7r5ryb\n",
      "2023-04-21 16:56:12 lex-web-ui-codebuilddeploy-1t9-s3serveraccesslogs-ane1gk7kkm3c\n",
      "2023-04-21 16:56:37 lex-web-ui-codebuilddeploy-1t94o7wc5-webappbucket-1f660ko0qibli\n",
      "2023-04-20 17:34:13 lex-web-ui-codebuilddeploy-9m1-s3serveraccesslogs-1w07gkws3fwwi\n",
      "2023-09-06 16:08:42 lex-website-wwwbucketa6b42ec9-t3bca5509kyp\n",
      "2023-09-06 16:05:51 lex-website-wwwbucketa6b42ec9-u0ydjqlswcz\n",
      "2022-12-08 17:16:18 personalize-api-websitewebsitebucketdcf82b05-5m5getxbhy0d\n",
      "2023-06-16 10:47:57 pydaydemo-rekognitionbucket1f8d36aa-1em9gslhmsn4g\n",
      "2023-06-16 14:44:43 pydaydemo2-rekognitionbucket1f8d36aa-1vl69e5ek77h8\n",
      "2022-12-07 16:54:58 recomendador-anime-report\n",
      "2023-11-08 12:49:31 reinventagentstack-bucketagendabucket1c1c4a36-15cymrqdwao4c\n",
      "2023-11-08 12:49:31 reinventagentstack-reinventagendabucketc26c771e-1wl1tu97ykf7i\n",
      "2023-03-15 11:16:11 rekognition-video-console-demo-pdx-528681203296-1678889766\n",
      "2023-04-25 19:09:16 sagemaker-emr-template-cfn-2f436230-e3be-11ed-842d-0ea3213b968d\n",
      "2022-12-21 12:14:20 sagemaker-studio-528681203296-2rra1brkq33\n",
      "2023-06-13 14:07:01 sagemaker-studio-528681203296-kb0mr374oq\n",
      "2022-11-10 11:02:34 sagemaker-studio-528681203296-xwpke8o5339\n",
      "2023-06-13 14:10:10 sagemaker-us-east-2-528681203296\n",
      "2022-11-10 11:09:44 sagemaker-us-west-2-528681203296\n",
      "2023-06-14 22:41:44 scanvideocodewhisperercd-processrekognitionbucket-v51meyricyml\n",
      "2023-06-14 22:41:44 scanvideocodewhisperercd-rekognitionbucket1f8d36a-194wxo0w3125y\n",
      "2023-11-04 20:38:42 transcriberstack-thetranscriberbucket08071242-1ny0x1pcqj57x\n",
      "2023-06-09 14:00:27 ui-chat-bot-translator2-codebu-s3serveraccesslogs-137he48tmw59i\n",
      "2023-06-09 14:00:27 ui-chat-bot-translator2-lexwebuicloudfrontdistri-1ck18xlm97lsg\n",
      "2023-06-09 13:18:52 ui-chatbot-translator-co-lexwebuicloudfrontdistri-1246o7o4mx4ln\n",
      "2023-06-09 13:18:52 ui-chatbot-translator-codebuil-s3serveraccesslogs-9cfm4uleyx9\n",
      "2023-05-24 12:58:54 video-content-moderation-rekognitionbucket1f8d36a-xqnwl27xpc65\n"
     ]
    }
   ],
   "source": [
    "!aws s3 ls"
   ]
  },
  {
   "cell_type": "code",
   "execution_count": null,
   "metadata": {},
   "outputs": [],
   "source": [
    "prompt = \"Did you know a similar session?\"\n",
    "session_id = \"1\""
   ]
  },
  {
   "cell_type": "code",
   "execution_count": null,
   "metadata": {},
   "outputs": [],
   "source": [
    "qa_to_an_agenda (prompt,session_id)"
   ]
  },
  {
   "cell_type": "code",
   "execution_count": null,
   "metadata": {},
   "outputs": [],
   "source": []
  }
 ],
 "metadata": {
  "kernelspec": {
   "display_name": "Python 3",
   "language": "python",
   "name": "python3"
  },
  "language_info": {
   "codemirror_mode": {
    "name": "ipython",
    "version": 3
   },
   "file_extension": ".py",
   "mimetype": "text/x-python",
   "name": "python",
   "nbconvert_exporter": "python",
   "pygments_lexer": "ipython3",
   "version": "3.9.6"
  }
 },
 "nbformat": 4,
 "nbformat_minor": 2
}
